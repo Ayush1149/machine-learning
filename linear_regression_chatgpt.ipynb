{
 "cells": [
  {
   "cell_type": "code",
   "execution_count": null,
   "id": "9c484321",
   "metadata": {},
   "outputs": [],
   "source": [
    "2+3"
   ]
  },
  {
   "cell_type": "code",
   "execution_count": null,
   "id": "751ac8da",
   "metadata": {},
   "outputs": [],
   "source": []
  },
  {
   "cell_type": "code",
   "execution_count": null,
   "id": "b0e55ee0",
   "metadata": {},
   "outputs": [],
   "source": [
    "x = 12\n",
    "y = 13\n",
    "\n",
    "z = x+y\n",
    "#z\n",
    "print(z)"
   ]
  },
  {
   "cell_type": "markdown",
   "id": "ba53f7aa",
   "metadata": {},
   "source": [
    "####### This piece of code will help us create a program to calculate area and circumference. "
   ]
  },
  {
   "cell_type": "code",
   "execution_count": null,
   "id": "7b5ffdc1",
   "metadata": {},
   "outputs": [],
   "source": [
    "import math # importing the math library\n",
    "pi = math.pi # import the value of pi from the math library to use for calculation of area and circumference\n",
    "\n",
    "radius = 24\n",
    "circumference = 2 * pi * radius\n",
    "area = pi * (radius**2)\n",
    "\n",
    "print(\"The circumference of the circle is = \", circumference)\n",
    "print(\"And the area of the circle is, = \", area)"
   ]
  },
  {
   "cell_type": "code",
   "execution_count": null,
   "id": "0844bbc7",
   "metadata": {},
   "outputs": [],
   "source": []
  },
  {
   "cell_type": "code",
   "execution_count": null,
   "id": "d6336f70",
   "metadata": {},
   "outputs": [],
   "source": []
  },
  {
   "cell_type": "code",
   "execution_count": null,
   "id": "81d21cb8",
   "metadata": {},
   "outputs": [],
   "source": []
  },
  {
   "cell_type": "code",
   "execution_count": null,
   "id": "f52f7fbd",
   "metadata": {},
   "outputs": [],
   "source": []
  },
  {
   "cell_type": "code",
   "execution_count": null,
   "id": "6ce0d4a8",
   "metadata": {},
   "outputs": [],
   "source": []
  }
 ],
 "metadata": {
  "kernelspec": {
   "display_name": "Python 3 (ipykernel)",
   "language": "python",
   "name": "python3"
  },
  "language_info": {
   "codemirror_mode": {
    "name": "ipython",
    "version": 3
   },
   "file_extension": ".py",
   "mimetype": "text/x-python",
   "name": "python",
   "nbconvert_exporter": "python",
   "pygments_lexer": "ipython3",
   "version": "3.9.13"
  }
 },
 "nbformat": 4,
 "nbformat_minor": 5
}
